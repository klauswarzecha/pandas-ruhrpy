{
 "cells": [
  {
   "cell_type": "code",
   "execution_count": 1,
   "metadata": {
    "collapsed": true
   },
   "outputs": [],
   "source": [
    "# enable printing of more than one attribute from a single cell\n",
    "from IPython.core.interactiveshell import InteractiveShell\n",
    "InteractiveShell.ast_node_interactivity = \"all\""
   ]
  },
  {
   "cell_type": "markdown",
   "metadata": {},
   "source": [
    "![pandas logo](img/pandas_logo_600x125.png)"
   ]
  },
  {
   "cell_type": "markdown",
   "metadata": {},
   "source": [
    "# A gentle introduction to pandas\n",
    "\n",
    "[Klaus-Dieter Warzecha](https://github.com/klauswarzecha)\n",
    "\n"
   ]
  },
  {
   "cell_type": "markdown",
   "metadata": {},
   "source": [
    "## What is pandas?\n",
    "\n",
    "> ### Python Data Analysis Library\n",
    "\n",
    "> pandas is an open source, BSD-licensed library providing high-performance, easy-to-use data structures and data analysis tools for the Python programming language."
   ]
  },
  {
   "cell_type": "markdown",
   "metadata": {},
   "source": [
    "## The major objects in pandas\n",
    "\n",
    "<div class=\"alert alert-success\" role=\"alert\">\n",
    "\n",
    "<strong>Lesson 0</strong>\n",
    "\n",
    "<ol>\n",
    "<li><strong>DataFrame</strong> is a <em>2-dimensional</em> labeled data structure with columns of potentially different types. [&hellip;]<br> It is generally the most commonly used pandas object.</li>\n",
    "\n",
    "<li><strong>Series</strong> is a <em>one-dimensional</em> labeled array capable of holding any data type (integers, strings, floating point numbers, Python objects, etc.).</li>\n",
    "</ol>\n",
    "</div>\n",
    "[source](http://pandas.pydata.org/pandas-docs/version/0.20/dsintro.html)\n",
    "\n",
    "# How to use pandas"
   ]
  },
  {
   "cell_type": "code",
   "execution_count": 2,
   "metadata": {
    "collapsed": true
   },
   "outputs": [],
   "source": [
    "import pandas as pd"
   ]
  },
  {
   "cell_type": "code",
   "execution_count": 3,
   "metadata": {
    "collapsed": true
   },
   "outputs": [],
   "source": [
    "import numpy as np\n",
    "import matplotlib.pyplot as plt\n",
    "\n",
    "from matplotlib import style\n",
    "style.use('ggplot')\n",
    "%matplotlib inline"
   ]
  },
  {
   "cell_type": "markdown",
   "metadata": {},
   "source": [
    "## A DataFrame for a Hall of Fame"
   ]
  },
  {
   "cell_type": "code",
   "execution_count": 4,
   "metadata": {},
   "outputs": [
    {
     "data": {
      "text/plain": [
       "(16, 5)"
      ]
     },
     "execution_count": 4,
     "metadata": {},
     "output_type": "execute_result"
    },
    {
     "data": {
      "text/plain": [
       "pandas.core.frame.DataFrame"
      ]
     },
     "execution_count": 4,
     "metadata": {},
     "output_type": "execute_result"
    }
   ],
   "source": [
    "data = [\n",
    "    ['Kurt', 'Alder', '10.07.1902', '20.06.1958', 1950], \n",
    "    ['Gerhard Ludwig', 'Ertl', '10.10.1936', '', 2007], \n",
    "    ['Emil', 'Fischer', '09.10.1852', '15.07.1919', 1902], \n",
    "    ['Ronald George Wreyford', 'Norrish', '09.11.1897', '07.06.1978', 1967],\n",
    "    ['Georg', 'Wittig', '16.07.1897', '26.08.1987',  1979],\n",
    "    ['Ernest', 'Rutherford', '30.08.1871', '19.10.1937', 1908],\n",
    "    ['Marie', 'Curie', '07.11.1867', '04.07.1934', 1911], \n",
    "    ['Manfred', 'Eigen', '09.05.1927', '', 1967],\n",
    "    ['Victor', 'Grignard', '06.05.1871', '13.12.1935', 1912],\n",
    "    ['Richard', 'Willstätter', '13.08.1872', '03.08.1942', 1915], \n",
    "    ['Hans', 'Fischer', '27.07.1881', '31.03.1945', 1930],\n",
    "    ['Otto', 'Diels', '23.01.1876', '07.03.1954', 1950],\n",
    "    ['Jean-Marie', 'Lehn', '30.09.1939', '', 1987],\n",
    "    ['Harold', 'Kroto', '07.10.1939', '30.04.2016', 1996], \n",
    "    ['Rudolph Arthur', 'Marcus', '21.07.1923','', 1992],\n",
    "    ['George', 'Porter', '06.12.1920','31.08.2002', 1967]\n",
    "]\n",
    "\n",
    "dims = (len(data), len(data[-1]))\n",
    "dims\n",
    "\n",
    "df = pd.DataFrame(data)\n",
    "type(df)"
   ]
  },
  {
   "cell_type": "markdown",
   "metadata": {},
   "source": [
    "### DataFrames have attributes"
   ]
  },
  {
   "cell_type": "code",
   "execution_count": 5,
   "metadata": {},
   "outputs": [
    {
     "data": {
      "text/plain": [
       "(16, 5)"
      ]
     },
     "execution_count": 5,
     "metadata": {},
     "output_type": "execute_result"
    },
    {
     "data": {
      "text/plain": [
       "RangeIndex(start=0, stop=5, step=1)"
      ]
     },
     "execution_count": 5,
     "metadata": {},
     "output_type": "execute_result"
    },
    {
     "data": {
      "text/plain": [
       "RangeIndex(start=0, stop=16, step=1)"
      ]
     },
     "execution_count": 5,
     "metadata": {},
     "output_type": "execute_result"
    }
   ],
   "source": [
    "df.shape\n",
    "df.columns\n",
    "df.index"
   ]
  },
  {
   "cell_type": "markdown",
   "metadata": {},
   "source": [
    "<div class=\"alert alert-success\" role=\"alert\">\n",
    "\n",
    "<strong>Lesson 1</strong>\n",
    "\n",
    "<ol>\n",
    "<li>A DataFrame is organized in rows and columns.</li>\n",
    "\n",
    "<ul>\n",
    "    <li>Each row represents an observation.</li>\n",
    "    <li>Each column represents a variable.</li>\n",
    "</ul>\n",
    "\n",
    "<li>A DataFrame has an <strong>index</strong> (row labels) \n",
    "and <strong>column headers</strong>.</li>\n",
    "<li><strong>Index</strong> (row labels) and <strong>column headers</strong> and not part of the DataFrame content.</li>\n",
    "</ol>\n",
    "</div>"
   ]
  },
  {
   "cell_type": "code",
   "execution_count": 6,
   "metadata": {
    "scrolled": true
   },
   "outputs": [
    {
     "data": {
      "text/html": [
       "<div>\n",
       "<style>\n",
       "    .dataframe thead tr:only-child th {\n",
       "        text-align: right;\n",
       "    }\n",
       "\n",
       "    .dataframe thead th {\n",
       "        text-align: left;\n",
       "    }\n",
       "\n",
       "    .dataframe tbody tr th {\n",
       "        vertical-align: top;\n",
       "    }\n",
       "</style>\n",
       "<table border=\"1\" class=\"dataframe\">\n",
       "  <thead>\n",
       "    <tr style=\"text-align: right;\">\n",
       "      <th></th>\n",
       "      <th>0</th>\n",
       "      <th>1</th>\n",
       "      <th>2</th>\n",
       "      <th>3</th>\n",
       "      <th>4</th>\n",
       "    </tr>\n",
       "  </thead>\n",
       "  <tbody>\n",
       "    <tr>\n",
       "      <th>0</th>\n",
       "      <td>Kurt</td>\n",
       "      <td>Alder</td>\n",
       "      <td>10.07.1902</td>\n",
       "      <td>20.06.1958</td>\n",
       "      <td>1950</td>\n",
       "    </tr>\n",
       "    <tr>\n",
       "      <th>1</th>\n",
       "      <td>Gerhard Ludwig</td>\n",
       "      <td>Ertl</td>\n",
       "      <td>10.10.1936</td>\n",
       "      <td></td>\n",
       "      <td>2007</td>\n",
       "    </tr>\n",
       "    <tr>\n",
       "      <th>2</th>\n",
       "      <td>Emil</td>\n",
       "      <td>Fischer</td>\n",
       "      <td>09.10.1852</td>\n",
       "      <td>15.07.1919</td>\n",
       "      <td>1902</td>\n",
       "    </tr>\n",
       "    <tr>\n",
       "      <th>3</th>\n",
       "      <td>Ronald George Wreyford</td>\n",
       "      <td>Norrish</td>\n",
       "      <td>09.11.1897</td>\n",
       "      <td>07.06.1978</td>\n",
       "      <td>1967</td>\n",
       "    </tr>\n",
       "    <tr>\n",
       "      <th>4</th>\n",
       "      <td>Georg</td>\n",
       "      <td>Wittig</td>\n",
       "      <td>16.07.1897</td>\n",
       "      <td>26.08.1987</td>\n",
       "      <td>1979</td>\n",
       "    </tr>\n",
       "  </tbody>\n",
       "</table>\n",
       "</div>"
      ],
      "text/plain": [
       "                        0        1           2           3     4\n",
       "0                    Kurt    Alder  10.07.1902  20.06.1958  1950\n",
       "1          Gerhard Ludwig     Ertl  10.10.1936              2007\n",
       "2                    Emil  Fischer  09.10.1852  15.07.1919  1902\n",
       "3  Ronald George Wreyford  Norrish  09.11.1897  07.06.1978  1967\n",
       "4                   Georg   Wittig  16.07.1897  26.08.1987  1979"
      ]
     },
     "execution_count": 6,
     "metadata": {},
     "output_type": "execute_result"
    }
   ],
   "source": [
    "df.head() # display the top n (default: n=5) rows in a DataFrame"
   ]
  },
  {
   "cell_type": "code",
   "execution_count": 7,
   "metadata": {},
   "outputs": [
    {
     "data": {
      "text/html": [
       "<div>\n",
       "<style>\n",
       "    .dataframe thead tr:only-child th {\n",
       "        text-align: right;\n",
       "    }\n",
       "\n",
       "    .dataframe thead th {\n",
       "        text-align: left;\n",
       "    }\n",
       "\n",
       "    .dataframe tbody tr th {\n",
       "        vertical-align: top;\n",
       "    }\n",
       "</style>\n",
       "<table border=\"1\" class=\"dataframe\">\n",
       "  <thead>\n",
       "    <tr style=\"text-align: right;\">\n",
       "      <th></th>\n",
       "      <th>firstname</th>\n",
       "      <th>lastname</th>\n",
       "      <th>date of birth</th>\n",
       "      <th>deathdate</th>\n",
       "      <th>received</th>\n",
       "    </tr>\n",
       "  </thead>\n",
       "  <tbody>\n",
       "    <tr>\n",
       "      <th>0</th>\n",
       "      <td>Kurt</td>\n",
       "      <td>Alder</td>\n",
       "      <td>10.07.1902</td>\n",
       "      <td>20.06.1958</td>\n",
       "      <td>1950</td>\n",
       "    </tr>\n",
       "    <tr>\n",
       "      <th>1</th>\n",
       "      <td>Gerhard Ludwig</td>\n",
       "      <td>Ertl</td>\n",
       "      <td>10.10.1936</td>\n",
       "      <td></td>\n",
       "      <td>2007</td>\n",
       "    </tr>\n",
       "    <tr>\n",
       "      <th>2</th>\n",
       "      <td>Emil</td>\n",
       "      <td>Fischer</td>\n",
       "      <td>09.10.1852</td>\n",
       "      <td>15.07.1919</td>\n",
       "      <td>1902</td>\n",
       "    </tr>\n",
       "    <tr>\n",
       "      <th>3</th>\n",
       "      <td>Ronald George Wreyford</td>\n",
       "      <td>Norrish</td>\n",
       "      <td>09.11.1897</td>\n",
       "      <td>07.06.1978</td>\n",
       "      <td>1967</td>\n",
       "    </tr>\n",
       "    <tr>\n",
       "      <th>4</th>\n",
       "      <td>Georg</td>\n",
       "      <td>Wittig</td>\n",
       "      <td>16.07.1897</td>\n",
       "      <td>26.08.1987</td>\n",
       "      <td>1979</td>\n",
       "    </tr>\n",
       "  </tbody>\n",
       "</table>\n",
       "</div>"
      ],
      "text/plain": [
       "                firstname lastname date of birth   deathdate  received\n",
       "0                    Kurt    Alder    10.07.1902  20.06.1958      1950\n",
       "1          Gerhard Ludwig     Ertl    10.10.1936                  2007\n",
       "2                    Emil  Fischer    09.10.1852  15.07.1919      1902\n",
       "3  Ronald George Wreyford  Norrish    09.11.1897  07.06.1978      1967\n",
       "4                   Georg   Wittig    16.07.1897  26.08.1987      1979"
      ]
     },
     "execution_count": 7,
     "metadata": {},
     "output_type": "execute_result"
    }
   ],
   "source": [
    "df.columns = ['firstname', 'lastname', 'date of birth', 'deathdate', 'received']\n",
    "df.head()"
   ]
  },
  {
   "cell_type": "code",
   "execution_count": 8,
   "metadata": {},
   "outputs": [
    {
     "data": {
      "text/plain": [
       "0     10.07.1902\n",
       "1     10.10.1936\n",
       "2     09.10.1852\n",
       "3     09.11.1897\n",
       "4     16.07.1897\n",
       "5     30.08.1871\n",
       "6     07.11.1867\n",
       "7     09.05.1927\n",
       "8     06.05.1871\n",
       "9     13.08.1872\n",
       "10    27.07.1881\n",
       "11    23.01.1876\n",
       "12    30.09.1939\n",
       "13    07.10.1939\n",
       "14    21.07.1923\n",
       "15    06.12.1920\n",
       "Name: date of birth, dtype: object"
      ]
     },
     "execution_count": 8,
     "metadata": {},
     "output_type": "execute_result"
    },
    {
     "data": {
      "text/plain": [
       "pandas.core.series.Series"
      ]
     },
     "execution_count": 8,
     "metadata": {},
     "output_type": "execute_result"
    }
   ],
   "source": [
    "df['date of birth'] # bracket notation, reminds in a dict\n",
    "type(df['date of birth'])"
   ]
  },
  {
   "cell_type": "markdown",
   "metadata": {},
   "source": [
    "<div class=\"alert alert-success\" role=\"alert\">\n",
    "\n",
    "<strong>Lesson 2</strong>\n",
    "\n",
    "<p>A DataFrame column is a <strong>Series</strong> and has an <strong>index</strong>.<p>\n",
    "</div>"
   ]
  },
  {
   "cell_type": "code",
   "execution_count": 9,
   "metadata": {},
   "outputs": [
    {
     "data": {
      "text/plain": [
       "0     20.06.1958\n",
       "1               \n",
       "2     15.07.1919\n",
       "3     07.06.1978\n",
       "4     26.08.1987\n",
       "5     19.10.1937\n",
       "6     04.07.1934\n",
       "7               \n",
       "8     13.12.1935\n",
       "9     03.08.1942\n",
       "10    31.03.1945\n",
       "11    07.03.1954\n",
       "12              \n",
       "13    30.04.2016\n",
       "14              \n",
       "15    31.08.2002\n",
       "Name: deathdate, dtype: object"
      ]
     },
     "execution_count": 9,
     "metadata": {},
     "output_type": "execute_result"
    }
   ],
   "source": [
    "df.deathdate # dot notation, reminds in a class"
   ]
  },
  {
   "cell_type": "markdown",
   "metadata": {},
   "source": [
    "<div class=\"alert alert-success\" role=\"alert\">\n",
    "\n",
    "<strong>Lesson 3</strong>\n",
    "\n",
    "<p>A column name without spaces can be used as an attribute!<p>\n",
    "</div>"
   ]
  },
  {
   "cell_type": "code",
   "execution_count": 10,
   "metadata": {},
   "outputs": [
    {
     "data": {
      "text/plain": [
       "0    10.07.1902\n",
       "1    10.10.1936\n",
       "Name: birthdate, dtype: object"
      ]
     },
     "execution_count": 10,
     "metadata": {},
     "output_type": "execute_result"
    }
   ],
   "source": [
    "df.rename(columns = {'date of birth': 'birthdate'}, inplace=True)\n",
    "df.birthdate.head(2)"
   ]
  },
  {
   "cell_type": "markdown",
   "metadata": {},
   "source": [
    "<div class=\"alert alert-success\" role=\"alert\">\n",
    "\n",
    "<strong>Lesson 4</strong>\n",
    "<p>Each column in a DataFrame has a <strong>dtype</strong>.</p>\n",
    "</div>\n"
   ]
  },
  {
   "cell_type": "code",
   "execution_count": 11,
   "metadata": {},
   "outputs": [
    {
     "data": {
      "text/plain": [
       "firstname    object\n",
       "lastname     object\n",
       "birthdate    object\n",
       "deathdate    object\n",
       "received      int64\n",
       "dtype: object"
      ]
     },
     "execution_count": 11,
     "metadata": {},
     "output_type": "execute_result"
    }
   ],
   "source": [
    "df.dtypes"
   ]
  },
  {
   "cell_type": "markdown",
   "metadata": {},
   "source": [
    "Here, `object` means `str`."
   ]
  },
  {
   "cell_type": "markdown",
   "metadata": {},
   "source": [
    "<div class=\"alert alert-warning\" role=\"alert\">\n",
    "<p>Day of birth and day of death as strings? Really? These are <strong>dates</strong>!</p>\n",
    "</div>\n"
   ]
  },
  {
   "cell_type": "code",
   "execution_count": 12,
   "metadata": {
    "collapsed": true
   },
   "outputs": [],
   "source": [
    "df.birthdate = pd.to_datetime(df.birthdate, format='%d.%m.%Y')\n",
    "df.deathdate = pd.to_datetime(df.deathdate)"
   ]
  },
  {
   "cell_type": "markdown",
   "metadata": {},
   "source": [
    "<div class=\"alert alert-success\" role=\"alert\">\n",
    "\n",
    "<strong>Lesson 5</strong>\n",
    "<p>Use datetime for dates. <strong>ISO 8601</strong> rocks.</p>\n",
    "</div>"
   ]
  },
  {
   "cell_type": "code",
   "execution_count": 13,
   "metadata": {},
   "outputs": [
    {
     "data": {
      "text/html": [
       "<div>\n",
       "<style>\n",
       "    .dataframe thead tr:only-child th {\n",
       "        text-align: right;\n",
       "    }\n",
       "\n",
       "    .dataframe thead th {\n",
       "        text-align: left;\n",
       "    }\n",
       "\n",
       "    .dataframe tbody tr th {\n",
       "        vertical-align: top;\n",
       "    }\n",
       "</style>\n",
       "<table border=\"1\" class=\"dataframe\">\n",
       "  <thead>\n",
       "    <tr style=\"text-align: right;\">\n",
       "      <th></th>\n",
       "      <th>firstname</th>\n",
       "      <th>lastname</th>\n",
       "      <th>birthdate</th>\n",
       "      <th>deathdate</th>\n",
       "      <th>received</th>\n",
       "    </tr>\n",
       "  </thead>\n",
       "  <tbody>\n",
       "    <tr>\n",
       "      <th>11</th>\n",
       "      <td>Otto</td>\n",
       "      <td>Diels</td>\n",
       "      <td>1876-01-23</td>\n",
       "      <td>1954-07-03</td>\n",
       "      <td>1950</td>\n",
       "    </tr>\n",
       "    <tr>\n",
       "      <th>12</th>\n",
       "      <td>Jean-Marie</td>\n",
       "      <td>Lehn</td>\n",
       "      <td>1939-09-30</td>\n",
       "      <td>NaT</td>\n",
       "      <td>1987</td>\n",
       "    </tr>\n",
       "    <tr>\n",
       "      <th>13</th>\n",
       "      <td>Harold</td>\n",
       "      <td>Kroto</td>\n",
       "      <td>1939-10-07</td>\n",
       "      <td>2016-04-30</td>\n",
       "      <td>1996</td>\n",
       "    </tr>\n",
       "    <tr>\n",
       "      <th>14</th>\n",
       "      <td>Rudolph Arthur</td>\n",
       "      <td>Marcus</td>\n",
       "      <td>1923-07-21</td>\n",
       "      <td>NaT</td>\n",
       "      <td>1992</td>\n",
       "    </tr>\n",
       "    <tr>\n",
       "      <th>15</th>\n",
       "      <td>George</td>\n",
       "      <td>Porter</td>\n",
       "      <td>1920-12-06</td>\n",
       "      <td>2002-08-31</td>\n",
       "      <td>1967</td>\n",
       "    </tr>\n",
       "  </tbody>\n",
       "</table>\n",
       "</div>"
      ],
      "text/plain": [
       "         firstname lastname  birthdate  deathdate  received\n",
       "11            Otto    Diels 1876-01-23 1954-07-03      1950\n",
       "12      Jean-Marie     Lehn 1939-09-30        NaT      1987\n",
       "13          Harold    Kroto 1939-10-07 2016-04-30      1996\n",
       "14  Rudolph Arthur   Marcus 1923-07-21        NaT      1992\n",
       "15          George   Porter 1920-12-06 2002-08-31      1967"
      ]
     },
     "execution_count": 13,
     "metadata": {},
     "output_type": "execute_result"
    },
    {
     "data": {
      "text/plain": [
       "firstname            object\n",
       "lastname             object\n",
       "birthdate    datetime64[ns]\n",
       "deathdate    datetime64[ns]\n",
       "received              int64\n",
       "dtype: object"
      ]
     },
     "execution_count": 13,
     "metadata": {},
     "output_type": "execute_result"
    }
   ],
   "source": [
    "df.tail()\n",
    "df.dtypes"
   ]
  },
  {
   "cell_type": "markdown",
   "metadata": {},
   "source": [
    "> `Series.dt` can be used to access the values of the series as datetimelike and return several properties. \n",
    "\n",
    "> These can be accessed like `Series.dt.<property>`.\n",
    "\n",
    "[source](https://pandas.pydata.org/pandas-docs/stable/api.html#datetimelike-properties)"
   ]
  },
  {
   "cell_type": "code",
   "execution_count": 14,
   "metadata": {},
   "outputs": [
    {
     "data": {
      "text/html": [
       "<div>\n",
       "<style>\n",
       "    .dataframe thead tr:only-child th {\n",
       "        text-align: right;\n",
       "    }\n",
       "\n",
       "    .dataframe thead th {\n",
       "        text-align: left;\n",
       "    }\n",
       "\n",
       "    .dataframe tbody tr th {\n",
       "        vertical-align: top;\n",
       "    }\n",
       "</style>\n",
       "<table border=\"1\" class=\"dataframe\">\n",
       "  <thead>\n",
       "    <tr style=\"text-align: right;\">\n",
       "      <th></th>\n",
       "      <th>firstname</th>\n",
       "      <th>lastname</th>\n",
       "      <th>birthdate</th>\n",
       "      <th>deathdate</th>\n",
       "      <th>received</th>\n",
       "      <th>age</th>\n",
       "    </tr>\n",
       "    <tr>\n",
       "      <th>received</th>\n",
       "      <th></th>\n",
       "      <th></th>\n",
       "      <th></th>\n",
       "      <th></th>\n",
       "      <th></th>\n",
       "      <th></th>\n",
       "    </tr>\n",
       "  </thead>\n",
       "  <tbody>\n",
       "    <tr>\n",
       "      <th>1902</th>\n",
       "      <td>Emil</td>\n",
       "      <td>Fischer</td>\n",
       "      <td>1852-10-09</td>\n",
       "      <td>1919-07-15</td>\n",
       "      <td>1902</td>\n",
       "      <td>50</td>\n",
       "    </tr>\n",
       "    <tr>\n",
       "      <th>1908</th>\n",
       "      <td>Ernest</td>\n",
       "      <td>Rutherford</td>\n",
       "      <td>1871-08-30</td>\n",
       "      <td>1937-10-19</td>\n",
       "      <td>1908</td>\n",
       "      <td>37</td>\n",
       "    </tr>\n",
       "    <tr>\n",
       "      <th>1911</th>\n",
       "      <td>Marie</td>\n",
       "      <td>Curie</td>\n",
       "      <td>1867-11-07</td>\n",
       "      <td>1934-04-07</td>\n",
       "      <td>1911</td>\n",
       "      <td>44</td>\n",
       "    </tr>\n",
       "    <tr>\n",
       "      <th>1912</th>\n",
       "      <td>Victor</td>\n",
       "      <td>Grignard</td>\n",
       "      <td>1871-05-06</td>\n",
       "      <td>1935-12-13</td>\n",
       "      <td>1912</td>\n",
       "      <td>41</td>\n",
       "    </tr>\n",
       "    <tr>\n",
       "      <th>1915</th>\n",
       "      <td>Richard</td>\n",
       "      <td>Willstätter</td>\n",
       "      <td>1872-08-13</td>\n",
       "      <td>1942-03-08</td>\n",
       "      <td>1915</td>\n",
       "      <td>43</td>\n",
       "    </tr>\n",
       "    <tr>\n",
       "      <th>1930</th>\n",
       "      <td>Hans</td>\n",
       "      <td>Fischer</td>\n",
       "      <td>1881-07-27</td>\n",
       "      <td>1945-03-31</td>\n",
       "      <td>1930</td>\n",
       "      <td>49</td>\n",
       "    </tr>\n",
       "    <tr>\n",
       "      <th>1950</th>\n",
       "      <td>Kurt</td>\n",
       "      <td>Alder</td>\n",
       "      <td>1902-07-10</td>\n",
       "      <td>1958-06-20</td>\n",
       "      <td>1950</td>\n",
       "      <td>48</td>\n",
       "    </tr>\n",
       "    <tr>\n",
       "      <th>1950</th>\n",
       "      <td>Otto</td>\n",
       "      <td>Diels</td>\n",
       "      <td>1876-01-23</td>\n",
       "      <td>1954-07-03</td>\n",
       "      <td>1950</td>\n",
       "      <td>74</td>\n",
       "    </tr>\n",
       "    <tr>\n",
       "      <th>1967</th>\n",
       "      <td>Ronald George Wreyford</td>\n",
       "      <td>Norrish</td>\n",
       "      <td>1897-11-09</td>\n",
       "      <td>1978-07-06</td>\n",
       "      <td>1967</td>\n",
       "      <td>70</td>\n",
       "    </tr>\n",
       "    <tr>\n",
       "      <th>1967</th>\n",
       "      <td>Manfred</td>\n",
       "      <td>Eigen</td>\n",
       "      <td>1927-05-09</td>\n",
       "      <td>NaT</td>\n",
       "      <td>1967</td>\n",
       "      <td>40</td>\n",
       "    </tr>\n",
       "    <tr>\n",
       "      <th>1967</th>\n",
       "      <td>George</td>\n",
       "      <td>Porter</td>\n",
       "      <td>1920-12-06</td>\n",
       "      <td>2002-08-31</td>\n",
       "      <td>1967</td>\n",
       "      <td>47</td>\n",
       "    </tr>\n",
       "    <tr>\n",
       "      <th>1979</th>\n",
       "      <td>Georg</td>\n",
       "      <td>Wittig</td>\n",
       "      <td>1897-07-16</td>\n",
       "      <td>1987-08-26</td>\n",
       "      <td>1979</td>\n",
       "      <td>82</td>\n",
       "    </tr>\n",
       "    <tr>\n",
       "      <th>1987</th>\n",
       "      <td>Jean-Marie</td>\n",
       "      <td>Lehn</td>\n",
       "      <td>1939-09-30</td>\n",
       "      <td>NaT</td>\n",
       "      <td>1987</td>\n",
       "      <td>48</td>\n",
       "    </tr>\n",
       "    <tr>\n",
       "      <th>1992</th>\n",
       "      <td>Rudolph Arthur</td>\n",
       "      <td>Marcus</td>\n",
       "      <td>1923-07-21</td>\n",
       "      <td>NaT</td>\n",
       "      <td>1992</td>\n",
       "      <td>69</td>\n",
       "    </tr>\n",
       "    <tr>\n",
       "      <th>1996</th>\n",
       "      <td>Harold</td>\n",
       "      <td>Kroto</td>\n",
       "      <td>1939-10-07</td>\n",
       "      <td>2016-04-30</td>\n",
       "      <td>1996</td>\n",
       "      <td>57</td>\n",
       "    </tr>\n",
       "    <tr>\n",
       "      <th>2007</th>\n",
       "      <td>Gerhard Ludwig</td>\n",
       "      <td>Ertl</td>\n",
       "      <td>1936-10-10</td>\n",
       "      <td>NaT</td>\n",
       "      <td>2007</td>\n",
       "      <td>71</td>\n",
       "    </tr>\n",
       "  </tbody>\n",
       "</table>\n",
       "</div>"
      ],
      "text/plain": [
       "                       firstname     lastname  birthdate  deathdate  received  \\\n",
       "received                                                                        \n",
       "1902                        Emil      Fischer 1852-10-09 1919-07-15      1902   \n",
       "1908                      Ernest   Rutherford 1871-08-30 1937-10-19      1908   \n",
       "1911                       Marie        Curie 1867-11-07 1934-04-07      1911   \n",
       "1912                      Victor     Grignard 1871-05-06 1935-12-13      1912   \n",
       "1915                     Richard  Willstätter 1872-08-13 1942-03-08      1915   \n",
       "1930                        Hans      Fischer 1881-07-27 1945-03-31      1930   \n",
       "1950                        Kurt        Alder 1902-07-10 1958-06-20      1950   \n",
       "1950                        Otto        Diels 1876-01-23 1954-07-03      1950   \n",
       "1967      Ronald George Wreyford      Norrish 1897-11-09 1978-07-06      1967   \n",
       "1967                     Manfred        Eigen 1927-05-09        NaT      1967   \n",
       "1967                      George       Porter 1920-12-06 2002-08-31      1967   \n",
       "1979                       Georg       Wittig 1897-07-16 1987-08-26      1979   \n",
       "1987                  Jean-Marie         Lehn 1939-09-30        NaT      1987   \n",
       "1992              Rudolph Arthur       Marcus 1923-07-21        NaT      1992   \n",
       "1996                      Harold        Kroto 1939-10-07 2016-04-30      1996   \n",
       "2007              Gerhard Ludwig         Ertl 1936-10-10        NaT      2007   \n",
       "\n",
       "          age  \n",
       "received       \n",
       "1902       50  \n",
       "1908       37  \n",
       "1911       44  \n",
       "1912       41  \n",
       "1915       43  \n",
       "1930       49  \n",
       "1950       48  \n",
       "1950       74  \n",
       "1967       70  \n",
       "1967       40  \n",
       "1967       47  \n",
       "1979       82  \n",
       "1987       48  \n",
       "1992       69  \n",
       "1996       57  \n",
       "2007       71  "
      ]
     },
     "execution_count": 14,
     "metadata": {},
     "output_type": "execute_result"
    }
   ],
   "source": [
    "laureates = df.copy()\n",
    "\n",
    "laureates['age'] = laureates.received - laureates.birthdate.dt.year\n",
    "laureates.set_index(laureates.received, inplace=True)\n",
    "laureates.sort_index(inplace=True)\n",
    "laureates"
   ]
  },
  {
   "cell_type": "markdown",
   "metadata": {},
   "source": [
    "----\n",
    "\n",
    "## Read data from a CSV file"
   ]
  },
  {
   "cell_type": "markdown",
   "metadata": {},
   "source": [
    "```python\n",
    "pandas.read_csv(filepath_or_buffer, \n",
    "                sep=’, ’, delimiter=None, header=’infer’, names=None, index_col=None, usecols=None, \n",
    "                squeeze=False, prefix=None, mangle_dupe_cols=True, dtype=None, engine=None, converters=None,\n",
    "                true_values=None, false_values=None, skipinitialspace=False, skiprows=None, nrows=None,\n",
    "                na_values=None, keep_default_na=True, na_filter=True, verbose=False, skip_blank_lines=True,\n",
    "                parse_dates=False, infer_datetime_format=False, keep_date_col=False, date_parser=None,\n",
    "                dayfirst=False, iterator=False, chunksize=None, compression=’infer’, thousands=None, \n",
    "                decimal=b’.’, lineterminator=None, quotechar=’”’, quoting=0, escapechar=None, comment=None,\n",
    "                encoding=None, dialect=None, tupleize_cols=False, error_bad_lines=True, warn_bad_lines=True,\n",
    "                skipfooter=0, skip_footer=0, doublequote=True, delim_whitespace=False, as_recarray=False,\n",
    "                compact_ints=False, use_unsigned=False, low_memory=True, buffer_lines=None, \n",
    "                memory_map=False, float_precision=None)``` \n",
    "                \n",
    "[source](https://pandas.pydata.org/pandas-docs/stable/generated/pandas.read_csv.html)\n",
    "\n",
    "<div class=\"alert alert-info\">\n",
    "   <strong>NOTE</strong> All parameters except for the first have default values. Skip them, unless you need to override them.\n",
    "</div>"
   ]
  },
  {
   "cell_type": "markdown",
   "metadata": {},
   "source": [
    "----"
   ]
  },
  {
   "cell_type": "markdown",
   "metadata": {},
   "source": [
    "### Side note I\n",
    "\n",
    "  - `data/sp500/sp500shares.csv` contains a list of all S&P500 companies\n",
    "  - `callsign`, e.g. `NYSE:MRK` is needed to retrieve share prices from Google Finance using the `pandas-datareader`\n",
    "  \n",
    "### Side note II \n",
    "\n",
    "As a highly recommendable alternative, use [Quandl](https://www.quandl.com)!\n",
    "\n",
    "  - Create a free account at [Quandl](https://www.quandl.com)\n",
    "  - Install the `quandl` package for Python (`conda install quandl`)\n",
    "  - `df = quandl.get(...)`\n",
    "\n"
   ]
  },
  {
   "cell_type": "code",
   "execution_count": 49,
   "metadata": {
    "collapsed": true
   },
   "outputs": [],
   "source": [
    "# CSX Corporation (Railroad & transportation)\n",
    "csx = pd.read_csv('data/sp500/CSX.csv', \n",
    "                  index_col='Date', \n",
    "                  parse_dates=['Date'])"
   ]
  },
  {
   "cell_type": "code",
   "execution_count": 16,
   "metadata": {},
   "outputs": [
    {
     "data": {
      "text/html": [
       "<div>\n",
       "<style>\n",
       "    .dataframe thead tr:only-child th {\n",
       "        text-align: right;\n",
       "    }\n",
       "\n",
       "    .dataframe thead th {\n",
       "        text-align: left;\n",
       "    }\n",
       "\n",
       "    .dataframe tbody tr th {\n",
       "        vertical-align: top;\n",
       "    }\n",
       "</style>\n",
       "<table border=\"1\" class=\"dataframe\">\n",
       "  <thead>\n",
       "    <tr style=\"text-align: right;\">\n",
       "      <th></th>\n",
       "      <th>Open</th>\n",
       "      <th>High</th>\n",
       "      <th>Low</th>\n",
       "      <th>Close</th>\n",
       "      <th>Volume</th>\n",
       "    </tr>\n",
       "    <tr>\n",
       "      <th>Date</th>\n",
       "      <th></th>\n",
       "      <th></th>\n",
       "      <th></th>\n",
       "      <th></th>\n",
       "      <th></th>\n",
       "    </tr>\n",
       "  </thead>\n",
       "  <tbody>\n",
       "    <tr>\n",
       "      <th>2016-01-04</th>\n",
       "      <td>46.94</td>\n",
       "      <td>47.72</td>\n",
       "      <td>46.75</td>\n",
       "      <td>47.27</td>\n",
       "      <td>2866067</td>\n",
       "    </tr>\n",
       "    <tr>\n",
       "      <th>2016-01-05</th>\n",
       "      <td>47.51</td>\n",
       "      <td>48.10</td>\n",
       "      <td>47.28</td>\n",
       "      <td>48.01</td>\n",
       "      <td>3117022</td>\n",
       "    </tr>\n",
       "    <tr>\n",
       "      <th>2016-01-06</th>\n",
       "      <td>47.27</td>\n",
       "      <td>48.35</td>\n",
       "      <td>47.26</td>\n",
       "      <td>48.02</td>\n",
       "      <td>4670537</td>\n",
       "    </tr>\n",
       "    <tr>\n",
       "      <th>2016-01-07</th>\n",
       "      <td>46.99</td>\n",
       "      <td>48.00</td>\n",
       "      <td>46.29</td>\n",
       "      <td>46.56</td>\n",
       "      <td>4324437</td>\n",
       "    </tr>\n",
       "    <tr>\n",
       "      <th>2016-01-08</th>\n",
       "      <td>46.94</td>\n",
       "      <td>47.57</td>\n",
       "      <td>45.65</td>\n",
       "      <td>45.88</td>\n",
       "      <td>4946099</td>\n",
       "    </tr>\n",
       "  </tbody>\n",
       "</table>\n",
       "</div>"
      ],
      "text/plain": [
       "             Open   High    Low  Close   Volume\n",
       "Date                                           \n",
       "2016-01-04  46.94  47.72  46.75  47.27  2866067\n",
       "2016-01-05  47.51  48.10  47.28  48.01  3117022\n",
       "2016-01-06  47.27  48.35  47.26  48.02  4670537\n",
       "2016-01-07  46.99  48.00  46.29  46.56  4324437\n",
       "2016-01-08  46.94  47.57  45.65  45.88  4946099"
      ]
     },
     "execution_count": 16,
     "metadata": {},
     "output_type": "execute_result"
    },
    {
     "data": {
      "text/plain": [
       "(372, 5)"
      ]
     },
     "execution_count": 16,
     "metadata": {},
     "output_type": "execute_result"
    }
   ],
   "source": [
    "csx.head()\n",
    "csx.shape"
   ]
  },
  {
   "cell_type": "markdown",
   "metadata": {},
   "source": [
    "## Accessing rows"
   ]
  },
  {
   "cell_type": "markdown",
   "metadata": {},
   "source": [
    "### based on position"
   ]
  },
  {
   "cell_type": "markdown",
   "metadata": {},
   "source": [
    "Let's access the 0-th row"
   ]
  },
  {
   "cell_type": "markdown",
   "metadata": {},
   "source": [
    "call | result |\n",
    "-----:|:----------\n",
    "`csx[0]`            | KeyError\n",
    "`csx['2016-01-04']` | KeyError\n",
    "`csx[2016-01-04]`   | SyntaxError\n"
   ]
  },
  {
   "cell_type": "markdown",
   "metadata": {},
   "source": [
    "<div class=\"alert alert-success\" role=\"alert\">\n",
    "\n",
    "<strong>Lesson 6</strong>\n",
    "<p>Use <strong>iloc</strong> to adress rows (and columns) based integer position.</p>\n",
    "</div>"
   ]
  },
  {
   "cell_type": "code",
   "execution_count": 17,
   "metadata": {},
   "outputs": [
    {
     "data": {
      "text/plain": [
       "Open           46.94\n",
       "High           47.72\n",
       "Low            46.75\n",
       "Close          47.27\n",
       "Volume    2866067.00\n",
       "Name: 2016-01-04 00:00:00, dtype: float64"
      ]
     },
     "execution_count": 17,
     "metadata": {},
     "output_type": "execute_result"
    }
   ],
   "source": [
    "# df.iloc[row, column]\n",
    "csx.iloc[0, :]"
   ]
  },
  {
   "cell_type": "markdown",
   "metadata": {},
   "source": [
    "### based on label"
   ]
  },
  {
   "cell_type": "code",
   "execution_count": 18,
   "metadata": {},
   "outputs": [
    {
     "data": {
      "text/plain": [
       "Date\n",
       "2016-01-04    47.27\n",
       "2016-01-06    48.02\n",
       "2016-01-08    45.88\n",
       "Name: Close, dtype: float64"
      ]
     },
     "execution_count": 18,
     "metadata": {},
     "output_type": "execute_result"
    }
   ],
   "source": [
    "csx.loc['2016-01-04':'2016-01-11':2].Close"
   ]
  },
  {
   "cell_type": "markdown",
   "metadata": {},
   "source": [
    "<div class=\"alert alert-success\" role=\"alert\">\n",
    "\n",
    "<strong>Lesson 7</strong>\n",
    "<p>Use <strong>loc</strong> to adress rows based on label.</p>\n",
    "</div>"
   ]
  },
  {
   "cell_type": "markdown",
   "metadata": {},
   "source": [
    "### based on logical conditions"
   ]
  },
  {
   "cell_type": "code",
   "execution_count": 19,
   "metadata": {},
   "outputs": [
    {
     "data": {
      "text/plain": [
       "True"
      ]
     },
     "execution_count": 19,
     "metadata": {},
     "output_type": "execute_result"
    }
   ],
   "source": [
    "(csx.Close > 60).any() # are there any closing prices > 55 USD"
   ]
  },
  {
   "cell_type": "code",
   "execution_count": 20,
   "metadata": {},
   "outputs": [
    {
     "data": {
      "text/plain": [
       "Date\n",
       "2016-01-04    False\n",
       "2016-01-05    False\n",
       "2016-01-06    False\n",
       "2016-01-07    False\n",
       "2016-01-08    False\n",
       "Name: Close, dtype: bool"
      ]
     },
     "execution_count": 20,
     "metadata": {},
     "output_type": "execute_result"
    },
    {
     "data": {
      "text/html": [
       "<div>\n",
       "<style>\n",
       "    .dataframe thead tr:only-child th {\n",
       "        text-align: right;\n",
       "    }\n",
       "\n",
       "    .dataframe thead th {\n",
       "        text-align: left;\n",
       "    }\n",
       "\n",
       "    .dataframe tbody tr th {\n",
       "        vertical-align: top;\n",
       "    }\n",
       "</style>\n",
       "<table border=\"1\" class=\"dataframe\">\n",
       "  <thead>\n",
       "    <tr style=\"text-align: right;\">\n",
       "      <th></th>\n",
       "      <th>Open</th>\n",
       "      <th>High</th>\n",
       "      <th>Low</th>\n",
       "      <th>Close</th>\n",
       "      <th>Volume</th>\n",
       "    </tr>\n",
       "    <tr>\n",
       "      <th>Date</th>\n",
       "      <th></th>\n",
       "      <th></th>\n",
       "      <th></th>\n",
       "      <th></th>\n",
       "      <th></th>\n",
       "    </tr>\n",
       "  </thead>\n",
       "  <tbody>\n",
       "    <tr>\n",
       "      <th>2017-05-16</th>\n",
       "      <td>60.24</td>\n",
       "      <td>60.38</td>\n",
       "      <td>59.90</td>\n",
       "      <td>60.33</td>\n",
       "      <td>1816297</td>\n",
       "    </tr>\n",
       "    <tr>\n",
       "      <th>2017-05-19</th>\n",
       "      <td>59.98</td>\n",
       "      <td>60.61</td>\n",
       "      <td>59.94</td>\n",
       "      <td>60.31</td>\n",
       "      <td>2567745</td>\n",
       "    </tr>\n",
       "    <tr>\n",
       "      <th>2017-05-22</th>\n",
       "      <td>60.39</td>\n",
       "      <td>60.88</td>\n",
       "      <td>60.28</td>\n",
       "      <td>60.31</td>\n",
       "      <td>3117309</td>\n",
       "    </tr>\n",
       "    <tr>\n",
       "      <th>2017-05-23</th>\n",
       "      <td>60.50</td>\n",
       "      <td>61.46</td>\n",
       "      <td>60.50</td>\n",
       "      <td>61.43</td>\n",
       "      <td>3330549</td>\n",
       "    </tr>\n",
       "    <tr>\n",
       "      <th>2017-05-24</th>\n",
       "      <td>61.43</td>\n",
       "      <td>62.48</td>\n",
       "      <td>61.39</td>\n",
       "      <td>62.30</td>\n",
       "      <td>3869148</td>\n",
       "    </tr>\n",
       "  </tbody>\n",
       "</table>\n",
       "</div>"
      ],
      "text/plain": [
       "             Open   High    Low  Close   Volume\n",
       "Date                                           \n",
       "2017-05-16  60.24  60.38  59.90  60.33  1816297\n",
       "2017-05-19  59.98  60.61  59.94  60.31  2567745\n",
       "2017-05-22  60.39  60.88  60.28  60.31  3117309\n",
       "2017-05-23  60.50  61.46  60.50  61.43  3330549\n",
       "2017-05-24  61.43  62.48  61.39  62.30  3869148"
      ]
     },
     "execution_count": 20,
     "metadata": {},
     "output_type": "execute_result"
    }
   ],
   "source": [
    "(csx.Close > 60).head() # boolean Series\n",
    "csx[csx.Close > 60].head()"
   ]
  },
  {
   "cell_type": "code",
   "execution_count": 21,
   "metadata": {},
   "outputs": [
    {
     "data": {
      "text/html": [
       "<div>\n",
       "<style>\n",
       "    .dataframe thead tr:only-child th {\n",
       "        text-align: right;\n",
       "    }\n",
       "\n",
       "    .dataframe thead th {\n",
       "        text-align: left;\n",
       "    }\n",
       "\n",
       "    .dataframe tbody tr th {\n",
       "        vertical-align: top;\n",
       "    }\n",
       "</style>\n",
       "<table border=\"1\" class=\"dataframe\">\n",
       "  <thead>\n",
       "    <tr style=\"text-align: right;\">\n",
       "      <th></th>\n",
       "      <th>Open</th>\n",
       "      <th>High</th>\n",
       "      <th>Low</th>\n",
       "      <th>Close</th>\n",
       "      <th>Volume</th>\n",
       "    </tr>\n",
       "    <tr>\n",
       "      <th>Date</th>\n",
       "      <th></th>\n",
       "      <th></th>\n",
       "      <th></th>\n",
       "      <th></th>\n",
       "      <th></th>\n",
       "    </tr>\n",
       "  </thead>\n",
       "  <tbody>\n",
       "    <tr>\n",
       "      <th>2016-02-09</th>\n",
       "      <td>39.58</td>\n",
       "      <td>40.96</td>\n",
       "      <td>39.39</td>\n",
       "      <td>39.86</td>\n",
       "      <td>5912477</td>\n",
       "    </tr>\n",
       "    <tr>\n",
       "      <th>2016-02-10</th>\n",
       "      <td>40.17</td>\n",
       "      <td>40.48</td>\n",
       "      <td>39.25</td>\n",
       "      <td>39.33</td>\n",
       "      <td>6594423</td>\n",
       "    </tr>\n",
       "    <tr>\n",
       "      <th>2016-02-11</th>\n",
       "      <td>38.98</td>\n",
       "      <td>39.53</td>\n",
       "      <td>38.26</td>\n",
       "      <td>39.36</td>\n",
       "      <td>8041650</td>\n",
       "    </tr>\n",
       "    <tr>\n",
       "      <th>2016-03-10</th>\n",
       "      <td>39.92</td>\n",
       "      <td>40.61</td>\n",
       "      <td>39.35</td>\n",
       "      <td>39.91</td>\n",
       "      <td>7999495</td>\n",
       "    </tr>\n",
       "    <tr>\n",
       "      <th>2016-03-17</th>\n",
       "      <td>40.49</td>\n",
       "      <td>40.67</td>\n",
       "      <td>39.52</td>\n",
       "      <td>39.72</td>\n",
       "      <td>7227055</td>\n",
       "    </tr>\n",
       "  </tbody>\n",
       "</table>\n",
       "</div>"
      ],
      "text/plain": [
       "             Open   High    Low  Close   Volume\n",
       "Date                                           \n",
       "2016-02-09  39.58  40.96  39.39  39.86  5912477\n",
       "2016-02-10  40.17  40.48  39.25  39.33  6594423\n",
       "2016-02-11  38.98  39.53  38.26  39.36  8041650\n",
       "2016-03-10  39.92  40.61  39.35  39.91  7999495\n",
       "2016-03-17  40.49  40.67  39.52  39.72  7227055"
      ]
     },
     "execution_count": 21,
     "metadata": {},
     "output_type": "execute_result"
    }
   ],
   "source": [
    "csx[(csx.Close < 40) & (csx.Volume > 5E6)]"
   ]
  },
  {
   "cell_type": "markdown",
   "metadata": {},
   "source": [
    "<div class=\"alert alert-success\" role=\"alert\">\n",
    "\n",
    "<strong>Lesson 8</strong>\n",
    "<p>Boolean masks for the selection of data can be combined.</p>\n",
    "</div>"
   ]
  },
  {
   "cell_type": "markdown",
   "metadata": {},
   "source": [
    "## Resampling"
   ]
  },
  {
   "cell_type": "code",
   "execution_count": 22,
   "metadata": {
    "collapsed": true
   },
   "outputs": [],
   "source": [
    "weekly = csx.Close.resample('W-SUN').mean()\n",
    "weekly.size"
   ]
  },
  {
   "cell_type": "code",
   "execution_count": 24,
   "metadata": {},
   "outputs": [
    {
     "data": {
      "image/png": "[encoded data removed]",
      "text/plain": [
       "<matplotlib.figure.Figure at 0x7fad841922e8>"
      ]
     },
     "metadata": {},
     "output_type": "display_data"
    }
   ],
   "source": [
    "csx.Close.plot(figsize=(16,6))\n",
    "weekly.plot(figsize=(16,6));"
   ]
  },
  {
   "cell_type": "markdown",
   "metadata": {},
   "source": [
    "----\n",
    "\n",
    "# BONUS - Messy UFO data"
   ]
  },
  {
   "cell_type": "code",
   "execution_count": 25,
   "metadata": {},
   "outputs": [
    {
     "name": "stdout",
     "output_type": "stream",
     "text": [
      "7650 data/ufos-1905-1989.csv\n",
      "# UFO sightings reported to the National UFO Reporting Center \n",
      "# http://www.nuforc.org/webreports\n",
      "# date range: 1905-01-01 to 1989-12-31\n",
      "# NOTE: Data is largely unsanitized!\n",
      "#\n",
      "dtime,city,state,ufoshape\n",
      "1989-12-31 23:00:00,Ocala,FL,Triangle\n",
      "1989-12-25 23:00:00,Santiago (Chile),,Light\n",
      "1989-12-24 23:45:00,Orrington,ME,Triangle\n",
      "1989-12-24 01:00:00,Santiago (Chile),,Light\n"
     ]
    }
   ],
   "source": [
    "!wc -l data/ufos-1905-1989.csv\n",
    "!head -n10 data/ufos-1905-1989.csv"
   ]
  },
  {
   "cell_type": "code",
   "execution_count": 26,
   "metadata": {},
   "outputs": [
    {
     "data": {
      "text/html": [
       "<div>\n",
       "<style>\n",
       "    .dataframe thead tr:only-child th {\n",
       "        text-align: right;\n",
       "    }\n",
       "\n",
       "    .dataframe thead th {\n",
       "        text-align: left;\n",
       "    }\n",
       "\n",
       "    .dataframe tbody tr th {\n",
       "        vertical-align: top;\n",
       "    }\n",
       "</style>\n",
       "<table border=\"1\" class=\"dataframe\">\n",
       "  <thead>\n",
       "    <tr style=\"text-align: right;\">\n",
       "      <th></th>\n",
       "      <th>dtime</th>\n",
       "      <th>city</th>\n",
       "      <th>state</th>\n",
       "      <th>ufoshape</th>\n",
       "    </tr>\n",
       "  </thead>\n",
       "  <tbody>\n",
       "    <tr>\n",
       "      <th>0</th>\n",
       "      <td>1989-12-31 23:00:00</td>\n",
       "      <td>Ocala</td>\n",
       "      <td>FL</td>\n",
       "      <td>Triangle</td>\n",
       "    </tr>\n",
       "    <tr>\n",
       "      <th>1</th>\n",
       "      <td>1989-12-25 23:00:00</td>\n",
       "      <td>Santiago (Chile)</td>\n",
       "      <td>NaN</td>\n",
       "      <td>Light</td>\n",
       "    </tr>\n",
       "    <tr>\n",
       "      <th>2</th>\n",
       "      <td>1989-12-24 23:45:00</td>\n",
       "      <td>Orrington</td>\n",
       "      <td>ME</td>\n",
       "      <td>Triangle</td>\n",
       "    </tr>\n",
       "    <tr>\n",
       "      <th>3</th>\n",
       "      <td>1989-12-24 01:00:00</td>\n",
       "      <td>Santiago (Chile)</td>\n",
       "      <td>NaN</td>\n",
       "      <td>Light</td>\n",
       "    </tr>\n",
       "  </tbody>\n",
       "</table>\n",
       "</div>"
      ],
      "text/plain": [
       "                dtime              city state  ufoshape\n",
       "0 1989-12-31 23:00:00             Ocala    FL  Triangle\n",
       "1 1989-12-25 23:00:00  Santiago (Chile)   NaN     Light\n",
       "2 1989-12-24 23:45:00         Orrington    ME  Triangle\n",
       "3 1989-12-24 01:00:00  Santiago (Chile)   NaN     Light"
      ]
     },
     "execution_count": 26,
     "metadata": {},
     "output_type": "execute_result"
    }
   ],
   "source": [
    "ufos = pd.read_csv('data/ufos-1905-1989.csv', \n",
    "                   comment ='#', parse_dates=[0])\n",
    "ufos.head(4)"
   ]
  },
  {
   "cell_type": "markdown",
   "metadata": {},
   "source": [
    "##  Concatenate multiple CSV files into a single DataFrame"
   ]
  },
  {
   "cell_type": "markdown",
   "metadata": {},
   "source": [
    "```python\n",
    "pd.concat(objs, axis=0, join='outer', join_axes=None, \n",
    "          ignore_index=False, keys=None, levels=None, \n",
    "          names=None, verify_integrity=False, copy=True)\n",
    "```\n",
    "[source](https://pandas.pydata.org/pandas-docs/stable/generated/pandas.concat.html)"
   ]
  },
  {
   "cell_type": "code",
   "execution_count": 27,
   "metadata": {
    "collapsed": true
   },
   "outputs": [],
   "source": [
    "import glob\n",
    "\n",
    "# collect the file names in a list\n",
    "fnames = glob.glob('data/ufos*.csv')\n",
    "\n",
    "# generator expression to read the CSV files - one by one\n",
    "# ignore lines that start with '#'\n",
    "# let pandas firgure out the datetime format in column zero\n",
    "dfs = (pd.read_csv(fname, comment ='#', parse_dates=[0]) for fname in fnames)\n",
    "\n",
    "# concatenate them to a single DataFame\n",
    "ufos = pd.concat(dfs)"
   ]
  },
  {
   "cell_type": "code",
   "execution_count": 28,
   "metadata": {},
   "outputs": [
    {
     "name": "stdout",
     "output_type": "stream",
     "text": [
      "<class 'pandas.core.frame.DataFrame'>\n",
      "Int64Index: 110743 entries, 0 to 5568\n",
      "Data columns (total 4 columns):\n",
      "dtime       110743 non-null datetime64[ns]\n",
      "city        110525 non-null object\n",
      "state       102462 non-null object\n",
      "ufoshape    107276 non-null object\n",
      "dtypes: datetime64[ns](1), object(3)\n",
      "memory usage: 4.2+ MB\n"
     ]
    }
   ],
   "source": [
    "ufos.info()"
   ]
  },
  {
   "cell_type": "markdown",
   "metadata": {},
   "source": [
    "## How many sightings per year?"
   ]
  },
  {
   "cell_type": "markdown",
   "metadata": {},
   "source": [
    "```python\n",
    "Series.value_counts(normalize=False, sort=True, ascending=False, bins=None, dropna=True)\n",
    "```\n",
    "Returns object containing counts of unique values.\n",
    "\n",
    "The resulting object will be in descending order so that the first element is the most frequently-occurring element. Excludes NA values by default."
   ]
  },
  {
   "cell_type": "code",
   "execution_count": 30,
   "metadata": {
    "scrolled": true
   },
   "outputs": [
    {
     "data": {
      "text/plain": [
       "2014    8632\n",
       "2012    8075\n",
       "2013    7773\n",
       "2015    6852\n",
       "Name: dtime, dtype: int64"
      ]
     },
     "execution_count": 30,
     "metadata": {},
     "output_type": "execute_result"
    }
   ],
   "source": [
    "ufos.dtime.dt.year.value_counts().head(4)"
   ]
  },
  {
   "cell_type": "code",
   "execution_count": 31,
   "metadata": {},
   "outputs": [
    {
     "data": {
      "text/plain": [
       "1905    2\n",
       "1906    1\n",
       "1910    3\n",
       "1914    1\n",
       "1916    1\n",
       "Name: dtime, dtype: int64"
      ]
     },
     "execution_count": 31,
     "metadata": {},
     "output_type": "execute_result"
    }
   ],
   "source": [
    "sightings = ufos.dtime.dt.year.value_counts()\n",
    "sightings.sort_index(ascending=True, inplace=True)\n",
    "sightings.head()"
   ]
  },
  {
   "cell_type": "code",
   "execution_count": 54,
   "metadata": {},
   "outputs": [
    {
     "data": {
      "image/png": "[encoded data removed]",
      "text/plain": [
       "<matplotlib.figure.Figure at 0x7fad7fb70e80>"
      ]
     },
     "metadata": {},
     "output_type": "display_data"
    }
   ],
   "source": [
    "ax = sightings.loc[1990:].plot(figsize=(12,6), title='UFO sightings per year')\n",
    "plt.xlabel('year')\n",
    "plt.ylabel('frequency');"
   ]
  },
  {
   "cell_type": "markdown",
   "metadata": {},
   "source": [
    "----\n",
    "\n",
    "## Sightings by US state"
   ]
  },
  {
   "cell_type": "code",
   "execution_count": 60,
   "metadata": {
    "scrolled": true
   },
   "outputs": [
    {
     "data": {
      "image/png": "[encoded data removed]",
      "text/plain": [
       "<matplotlib.figure.Figure at 0x7fad8006c2e8>"
      ]
     },
     "metadata": {},
     "output_type": "display_data"
    }
   ],
   "source": [
    "ufos.state.value_counts().head(10).plot(kind='bar', figsize = (12,4));"
   ]
  },
  {
   "cell_type": "markdown",
   "metadata": {},
   "source": [
    "----\n",
    "\n",
    "## Missing values"
   ]
  },
  {
   "cell_type": "markdown",
   "metadata": {},
   "source": [
    "<div class=\"alert alert-info\" role=\"alert\">\n",
    "<p><strong>NOTE</strong> Missing values happen all the time.</p>\n",
    "</div>"
   ]
  },
  {
   "cell_type": "markdown",
   "metadata": {},
   "source": [
    "<div class=\"alert alert-warning\" role=\"alert\">\n",
    "<p>Missing values coded as <code>-999, Other, Unknown, NotSeen</code> are a bad idea</p>\n",
    "</div>"
   ]
  },
  {
   "cell_type": "markdown",
   "metadata": {},
   "source": [
    "<div class=\"alert alert-success\" role=\"alert\">\n",
    "<strong>Lesson 9</strong>    \n",
    "\n",
    "<p><strong>NaN</strong> (<em>not a number</em>) and <strong>NaT</strong> (<em>not a timestamp</em>) indicate missing or unknown values.</p>\n",
    "\n",
    "<p>Use <code>isnull()</code> to detect missing values. There is also <code>notnull()</code>!</p>\n",
    "\n",
    "</div>"
   ]
  },
  {
   "cell_type": "code",
   "execution_count": 33,
   "metadata": {},
   "outputs": [
    {
     "data": {
      "text/plain": [
       "(3467, 4)"
      ]
     },
     "execution_count": 33,
     "metadata": {},
     "output_type": "execute_result"
    }
   ],
   "source": [
    "ufos[ufos.ufoshape.isnull()].shape"
   ]
  },
  {
   "cell_type": "code",
   "execution_count": 34,
   "metadata": {},
   "outputs": [
    {
     "data": {
      "text/plain": [
       "(15427, 4)"
      ]
     },
     "execution_count": 34,
     "metadata": {},
     "output_type": "execute_result"
    }
   ],
   "source": [
    "ufos[ufos.ufoshape.isin(['Unknown', 'unknown', 'Other', 'other'])].shape"
   ]
  },
  {
   "cell_type": "markdown",
   "metadata": {},
   "source": [
    "### How to sanitize?"
   ]
  },
  {
   "cell_type": "markdown",
   "metadata": {},
   "source": [
    "  - Achieve consistent writing (uppercase, lowercase, capitalized)"
   ]
  },
  {
   "cell_type": "code",
   "execution_count": 35,
   "metadata": {},
   "outputs": [
    {
     "data": {
      "text/plain": [
       "Light         22449\n",
       "Circle        11327\n",
       "Triangle      10387\n",
       "Fireball       8569\n",
       "Unknown        7791\n",
       "Other          7617\n",
       "Sphere         7267\n",
       "Disk           6919\n",
       "Oval           4957\n",
       "Formation      3420\n",
       "Changing       2668\n",
       "Cigar          2638\n",
       "Flash          1920\n",
       "Rectangle      1822\n",
       "Cylinder       1692\n",
       "Diamond        1622\n",
       "Chevron        1280\n",
       "Teardrop       1001\n",
       "Egg             987\n",
       "Cone            458\n",
       "Cross           336\n",
       "light            58\n",
       "triangle         18\n",
       "other            18\n",
       "circle            8\n",
       "Delta             7\n",
       "sphere            7\n",
       "cylinder          5\n",
       "rectangle         4\n",
       "cigar             3\n",
       "diamond           2\n",
       "fireball          2\n",
       "Round             2\n",
       "oval              2\n",
       "Crescent          2\n",
       "TRIANGULAR        1\n",
       "delta             1\n",
       "changing          1\n",
       "Hexagon           1\n",
       "flash             1\n",
       "unknown           1\n",
       "changed           1\n",
       "egg               1\n",
       "Dome              1\n",
       "Flare             1\n",
       "pyramid           1\n",
       "Name: ufoshape, dtype: int64"
      ]
     },
     "execution_count": 35,
     "metadata": {},
     "output_type": "execute_result"
    }
   ],
   "source": [
    "ufos.ufoshape.value_counts()"
   ]
  },
  {
   "cell_type": "code",
   "execution_count": 36,
   "metadata": {
    "collapsed": true
   },
   "outputs": [],
   "source": [
    "ufos.ufoshape = ufos.ufoshape.str.upper()"
   ]
  },
  {
   "cell_type": "code",
   "execution_count": 37,
   "metadata": {},
   "outputs": [
    {
     "data": {
      "text/plain": [
       "0       FORMATION\n",
       "1          CIRCLE\n",
       "2           LIGHT\n",
       "3         UNKNOWN\n",
       "4            DISK\n",
       "5          SPHERE\n",
       "6       FORMATION\n",
       "7        FIREBALL\n",
       "8           LIGHT\n",
       "9        TRIANGLE\n",
       "10         SPHERE\n",
       "11       TRIANGLE\n",
       "12          LIGHT\n",
       "13       FIREBALL\n",
       "14          OTHER\n",
       "15         CIRCLE\n",
       "16          LIGHT\n",
       "17          LIGHT\n",
       "18           OVAL\n",
       "19          LIGHT\n",
       "20        UNKNOWN\n",
       "21          OTHER\n",
       "22         SPHERE\n",
       "23           OVAL\n",
       "24          LIGHT\n",
       "25           DISK\n",
       "26      FORMATION\n",
       "27          OTHER\n",
       "28           DISK\n",
       "29          LIGHT\n",
       "          ...    \n",
       "5539        LIGHT\n",
       "5540       CIRCLE\n",
       "5541     FIREBALL\n",
       "5542     TRIANGLE\n",
       "5543        OTHER\n",
       "5544    FORMATION\n",
       "5545        LIGHT\n",
       "5546     FIREBALL\n",
       "5547       CIRCLE\n",
       "5548     FIREBALL\n",
       "5549        OTHER\n",
       "5550        LIGHT\n",
       "5551      DIAMOND\n",
       "5552         OVAL\n",
       "5553         DISK\n",
       "5554        LIGHT\n",
       "5555        LIGHT\n",
       "5556     TRIANGLE\n",
       "5557       SPHERE\n",
       "5558       CIRCLE\n",
       "5559        LIGHT\n",
       "5560       SPHERE\n",
       "5561        LIGHT\n",
       "5562        LIGHT\n",
       "5563        LIGHT\n",
       "5564     TRIANGLE\n",
       "5565       CIRCLE\n",
       "5566       SPHERE\n",
       "5567       SPHERE\n",
       "5568       SPHERE\n",
       "Name: ufoshape, Length: 110743, dtype: object"
      ]
     },
     "execution_count": 37,
     "metadata": {},
     "output_type": "execute_result"
    }
   ],
   "source": [
    "ufos.ufoshape"
   ]
  },
  {
   "cell_type": "code",
   "execution_count": 38,
   "metadata": {},
   "outputs": [
    {
     "data": {
      "text/plain": [
       "LIGHT         22507\n",
       "CIRCLE        11335\n",
       "TRIANGLE      10405\n",
       "FIREBALL       8571\n",
       "UNKNOWN        7792\n",
       "OTHER          7635\n",
       "SPHERE         7274\n",
       "DISK           6919\n",
       "OVAL           4959\n",
       "FORMATION      3420\n",
       "CHANGING       2669\n",
       "CIGAR          2641\n",
       "FLASH          1921\n",
       "RECTANGLE      1826\n",
       "CYLINDER       1697\n",
       "DIAMOND        1624\n",
       "CHEVRON        1280\n",
       "TEARDROP       1001\n",
       "EGG             988\n",
       "CONE            458\n",
       "CROSS           336\n",
       "DELTA             8\n",
       "ROUND             2\n",
       "CRESCENT          2\n",
       "CHANGED           1\n",
       "PYRAMID           1\n",
       "HEXAGON           1\n",
       "DOME              1\n",
       "TRIANGULAR        1\n",
       "FLARE             1\n",
       "Name: ufoshape, dtype: int64"
      ]
     },
     "execution_count": 38,
     "metadata": {},
     "output_type": "execute_result"
    }
   ],
   "source": [
    "ufos.ufoshape.value_counts()"
   ]
  },
  {
   "cell_type": "code",
   "execution_count": 39,
   "metadata": {},
   "outputs": [
    {
     "name": "stdout",
     "output_type": "stream",
     "text": [
      "['CHANGED' 'CHANGING' 'CHEVRON' 'CIGAR' 'CIRCLE' 'CONE' 'CRESCENT' 'CROSS'\n",
      " 'CYLINDER' 'DELTA' 'DIAMOND' 'DISK' 'DOME' 'EGG' 'FIREBALL' 'FLARE'\n",
      " 'FLASH' 'FORMATION' 'HEXAGON' 'LIGHT' 'OTHER' 'OVAL' 'PYRAMID' 'RECTANGLE'\n",
      " 'ROUND' 'SPHERE' 'TEARDROP' 'TRIANGLE' 'TRIANGULAR' 'UNKNOWN' nan]\n"
     ]
    }
   ],
   "source": [
    "print(ufos.ufoshape.sort_values().unique())"
   ]
  },
  {
   "cell_type": "markdown",
   "metadata": {},
   "source": [
    "  - Unify shape descriptions (`CHANGE`, `CHANGING`, `TRIANGLE`, `TRIANGULAR`)\n",
    "  - Replace `UNKNOWN, OTHER` with `NaN`"
   ]
  },
  {
   "cell_type": "code",
   "execution_count": 40,
   "metadata": {
    "collapsed": true
   },
   "outputs": [],
   "source": [
    "import numpy as np\n",
    "ufos.loc[ufos.ufoshape.isin(['OTHER', 'UNKNOWN']), 'ufoshape'] = np.nan"
   ]
  },
  {
   "cell_type": "code",
   "execution_count": 41,
   "metadata": {},
   "outputs": [
    {
     "data": {
      "text/plain": [
       "LIGHT         22507\n",
       "CIRCLE        11335\n",
       "TRIANGLE      10405\n",
       "FIREBALL       8571\n",
       "SPHERE         7274\n",
       "DISK           6919\n",
       "OVAL           4959\n",
       "FORMATION      3420\n",
       "CHANGING       2669\n",
       "CIGAR          2641\n",
       "FLASH          1921\n",
       "RECTANGLE      1826\n",
       "CYLINDER       1697\n",
       "DIAMOND        1624\n",
       "CHEVRON        1280\n",
       "TEARDROP       1001\n",
       "EGG             988\n",
       "CONE            458\n",
       "CROSS           336\n",
       "DELTA             8\n",
       "CRESCENT          2\n",
       "ROUND             2\n",
       "HEXAGON           1\n",
       "PYRAMID           1\n",
       "DOME              1\n",
       "TRIANGULAR        1\n",
       "CHANGED           1\n",
       "FLARE             1\n",
       "Name: ufoshape, dtype: int64"
      ]
     },
     "execution_count": 41,
     "metadata": {},
     "output_type": "execute_result"
    }
   ],
   "source": [
    "ufos.ufoshape.value_counts()"
   ]
  },
  {
   "cell_type": "markdown",
   "metadata": {},
   "source": [
    "## String-heavy DataFrames"
   ]
  },
  {
   "cell_type": "code",
   "execution_count": 42,
   "metadata": {},
   "outputs": [
    {
     "data": {
      "text/plain": [
       "Index       3507384\n",
       "dtime        885944\n",
       "city        7545999\n",
       "state       6310250\n",
       "ufoshape    6403380\n",
       "dtype: int64"
      ]
     },
     "execution_count": 42,
     "metadata": {},
     "output_type": "execute_result"
    }
   ],
   "source": [
    "ufos.memory_usage(deep=True)"
   ]
  },
  {
   "cell_type": "code",
   "execution_count": 43,
   "metadata": {
    "collapsed": true
   },
   "outputs": [],
   "source": [
    "ufos.ufoshape = ufos.ufoshape.astype('category')"
   ]
  },
  {
   "cell_type": "code",
   "execution_count": 44,
   "metadata": {},
   "outputs": [
    {
     "data": {
      "text/plain": [
       "Index       3507384\n",
       "dtime        885944\n",
       "city        7545999\n",
       "state       6310250\n",
       "ufoshape     113796\n",
       "dtype: int64"
      ]
     },
     "execution_count": 44,
     "metadata": {},
     "output_type": "execute_result"
    }
   ],
   "source": [
    "ufos.memory_usage(deep=True)"
   ]
  },
  {
   "cell_type": "markdown",
   "metadata": {},
   "source": [
    "<div class=\"alert alert-success\" role=\"alert\">\n",
    "<strong>Lesson 10</strong>    \n",
    "\n",
    "<p>Convert recurring strings in a Series (column of a DataFrame) into <strong>categories</strong> \n",
    "to decrease the memory footprint!</p>\n",
    "</div>"
   ]
  },
  {
   "cell_type": "code",
   "execution_count": 45,
   "metadata": {},
   "outputs": [
    {
     "data": {
      "text/plain": [
       "dtime       datetime64[ns]\n",
       "city                object\n",
       "state               object\n",
       "ufoshape          category\n",
       "dtype: object"
      ]
     },
     "execution_count": 45,
     "metadata": {},
     "output_type": "execute_result"
    }
   ],
   "source": [
    "ufos.dtypes"
   ]
  },
  {
   "cell_type": "code",
   "execution_count": 46,
   "metadata": {},
   "outputs": [
    {
     "data": {
      "text/plain": [
       "Index(['CHANGED', 'CHANGING', 'CHEVRON', 'CIGAR', 'CIRCLE', 'CONE', 'CRESCENT',\n",
       "       'CROSS', 'CYLINDER', 'DELTA', 'DIAMOND', 'DISK', 'DOME', 'EGG',\n",
       "       'FIREBALL', 'FLARE', 'FLASH', 'FORMATION', 'HEXAGON', 'LIGHT', 'OVAL',\n",
       "       'PYRAMID', 'RECTANGLE', 'ROUND', 'SPHERE', 'TEARDROP', 'TRIANGLE',\n",
       "       'TRIANGULAR'],\n",
       "      dtype='object')"
      ]
     },
     "execution_count": 46,
     "metadata": {},
     "output_type": "execute_result"
    }
   ],
   "source": [
    "ufos.ufoshape.cat.categories"
   ]
  },
  {
   "cell_type": "markdown",
   "metadata": {
    "collapsed": true
   },
   "source": [
    "----\n",
    "\n",
    "<a rel=\"license\" href=\"http://creativecommons.org/licenses/by/4.0/\"><img alt=\"Creative Commons License\" style=\"border-width:0\" src=\"https://i.creativecommons.org/l/by/4.0/88x31.png\" /></a><br />This work by <a xmlns:cc=\"http://creativecommons.org/ns#\" href=\"https://github.com/klauswarzecha/pandas-ruhrpy\" property=\"cc:attributionName\" rel=\"cc:attributionURL\">Klaus-Dieter Warzecha</a> is licensed under a <a rel=\"license\" href=\"http://creativecommons.org/licenses/by/4.0/\">Creative Commons Attribution 4.0 International License</a>."
   ]
  },
  {
   "cell_type": "code",
   "execution_count": null,
   "metadata": {
    "collapsed": true
   },
   "outputs": [],
   "source": []
  }
 ],
 "metadata": {
  "kernelspec": {
   "display_name": "Python 3",
   "language": "python",
   "name": "python3"
  },
  "language_info": {
   "codemirror_mode": {
    "name": "ipython",
    "version": 3
   },
   "file_extension": ".py",
   "mimetype": "text/x-python",
   "name": "python",
   "nbconvert_exporter": "python",
   "pygments_lexer": "ipython3",
   "version": "3.6.1"
  }
 },
 "nbformat": 4,
 "nbformat_minor": 2
}
